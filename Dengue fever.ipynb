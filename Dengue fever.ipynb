{
 "cells": [
  {
   "cell_type": "markdown",
   "metadata": {},
   "source": [
    "# Compte-rendu de TP : JABER Bassem, KEBAILI Abir et ZRIBI Nour El Houda "
   ]
  },
  {
   "cell_type": "code",
   "execution_count": 1,
   "metadata": {},
   "outputs": [],
   "source": [
    "import pandas as pd\n",
    "import random\n",
    "import matplotlib.pyplot as plt"
   ]
  },
  {
   "cell_type": "markdown",
   "metadata": {},
   "source": [
    "Question 1."
   ]
  },
  {
   "cell_type": "code",
   "execution_count": 2,
   "metadata": {},
   "outputs": [
    {
     "name": "stdout",
     "output_type": "stream",
     "text": [
      "43376\n"
     ]
    }
   ],
   "source": [
    "data_exp=pd.read_csv('/mci/ei1720/jaber_ba/Téléchargements/EXPRESSION.tsv', sep='\\t', index_col=0)\n",
    "data_pheno=pd.read_csv('/mci/ei1720/jaber_ba/Téléchargements/PHENOTYPE.tsv', sep='\\t', index_col=0)\n",
    "txt=pd.read_csv('/mci/ei1720/jaber_ba/Téléchargements/ANNOTATIONS.txt', sep=\"\\t\", header=None)\n",
    "print(len(data_exp))"
   ]
  },
  {
   "cell_type": "markdown",
   "metadata": {},
   "source": [
    "Il y a 43 376 transcrits."
   ]
  },
  {
   "cell_type": "code",
   "execution_count": 3,
   "metadata": {},
   "outputs": [],
   "source": [
    "dataexpt=data_exp.transpose()\n",
    "dataphenot=data_pheno.transpose()"
   ]
  },
  {
   "cell_type": "markdown",
   "metadata": {},
   "source": [
    "Question 2."
   ]
  },
  {
   "cell_type": "code",
   "execution_count": 4,
   "metadata": {},
   "outputs": [],
   "source": [
    "mean=dataexpt.mean()"
   ]
  },
  {
   "cell_type": "code",
   "execution_count": 5,
   "metadata": {},
   "outputs": [],
   "source": [
    "var=dataexpt.var()"
   ]
  },
  {
   "cell_type": "markdown",
   "metadata": {},
   "source": [
    "Question 3."
   ]
  },
  {
   "cell_type": "code",
   "execution_count": 6,
   "metadata": {},
   "outputs": [
    {
     "data": {
      "text/plain": [
       "<matplotlib.axes._subplots.AxesSubplot at 0x7f78d4f47518>"
      ]
     },
     "execution_count": 6,
     "metadata": {},
     "output_type": "execute_result"
    },
    {
     "data": {
      "image/png": "[encoded data removed]",
      "text/plain": [
       "<Figure size 432x288 with 1 Axes>"
      ]
     },
     "metadata": {},
     "output_type": "display_data"
    }
   ],
   "source": [
    "mean.hist()"
   ]
  },
  {
   "cell_type": "code",
   "execution_count": 7,
   "metadata": {},
   "outputs": [
    {
     "data": {
      "text/plain": [
       "<matplotlib.axes._subplots.AxesSubplot at 0x7f78d553d2b0>"
      ]
     },
     "execution_count": 7,
     "metadata": {},
     "output_type": "execute_result"
    },
    {
     "data": {
      "image/png": "[encoded data removed]",
      "text/plain": [
       "<Figure size 432x288 with 1 Axes>"
      ]
     },
     "metadata": {},
     "output_type": "display_data"
    }
   ],
   "source": [
    "var.hist(bins=200)"
   ]
  },
  {
   "cell_type": "code",
   "execution_count": 8,
   "metadata": {
    "scrolled": true
   },
   "outputs": [],
   "source": [
    "data_exp[\"mean\"]=dataexpt.mean()\n",
    "data_exp[\"var\"]=dataexpt.var()\n",
    "data_exp1=data_exp.copy()\n",
    "data_exp1[\"Nom\"]=txt.loc[:,1]"
   ]
  },
  {
   "cell_type": "markdown",
   "metadata": {},
   "source": [
    "Question 4."
   ]
  },
  {
   "cell_type": "code",
   "execution_count": 9,
   "metadata": {},
   "outputs": [
    {
     "name": "stdout",
     "output_type": "stream",
     "text": [
      "614\n"
     ]
    }
   ],
   "source": [
    "data2=data_exp[data_exp[\"mean\"]>3]\n",
    "data3=data2[data2[\"var\"]>2]\n",
    "data4=data_exp1[data_exp1[\"mean\"]>3]\n",
    "data5=data4[data4[\"var\"]>2]\n",
    "print(len(data5))"
   ]
  },
  {
   "cell_type": "markdown",
   "metadata": {},
   "source": [
    "Il reste 614 transcrits"
   ]
  },
  {
   "cell_type": "markdown",
   "metadata": {},
   "source": [
    "Question 5.\n",
    "\n",
    "L'hypothèse nulle H0 que nous testons est la suivante: \"Les moyennes de transcriptions des phénotypes DSS et DF sont les mêmes\""
   ]
  },
  {
   "cell_type": "code",
   "execution_count": 10,
   "metadata": {},
   "outputs": [],
   "source": [
    "df=data5\n",
    "DSS=df.loc[:,\"GSM447783\":\"GSM447826\"]\n",
    "DSS1=DSS.copy()\n",
    "DSS1[\"Nom\"]=df.loc[:,\"Nom\"]"
   ]
  },
  {
   "cell_type": "code",
   "execution_count": 11,
   "metadata": {},
   "outputs": [],
   "source": [
    "DF=df.loc[:,\"GSM447781\":\"GSM447827\"]\n",
    "DF1=DF.copy()\n",
    "DF1[\"Nom\"]=df.loc[:,\"Nom\"]"
   ]
  },
  {
   "cell_type": "markdown",
   "metadata": {},
   "source": [
    "Question 6."
   ]
  },
  {
   "cell_type": "code",
   "execution_count": 12,
   "metadata": {},
   "outputs": [],
   "source": [
    "from scipy import stats\n",
    "res=stats.ttest_ind(DSS.transpose(),DF.transpose())"
   ]
  },
  {
   "cell_type": "markdown",
   "metadata": {},
   "source": [
    "Lorsque l'on effectue un test-t, nos données doivent être des réalisations de variables aléatoires indépendantes identiquement distribuée à la variable aléatoire de leur classe d'appartenance ( X1 variable aléatoire \"référence\" pour le phénotype DSS et X2 variable aléatoire \"référence\" pour le phénotype DF par exemple )"
   ]
  },
  {
   "cell_type": "markdown",
   "metadata": {},
   "source": [
    "Question 7."
   ]
  },
  {
   "cell_type": "code",
   "execution_count": 13,
   "metadata": {
    "scrolled": true
   },
   "outputs": [
    {
     "name": "stdout",
     "output_type": "stream",
     "text": [
      "244\n"
     ]
    }
   ],
   "source": [
    "valide=[]\n",
    "for i in range(len(res[1])):\n",
    "    if res[1][i]<0.05:\n",
    "        valide.append(i)\n",
    "print(len(valide))"
   ]
  },
  {
   "cell_type": "markdown",
   "metadata": {},
   "source": [
    "Il y a 244 transcrits ayant une valeur p inférieure à notre seuil d'erreur.\n",
    "On ne peut considérer l'ensemble de ces résultats comme statistiquement significatifs car nous effectuons un grand nombre de tests et la probabilité qu'au moins l'un d'eux ne soit pas statistiquement significatifs est donc proche de 1."
   ]
  },
  {
   "cell_type": "markdown",
   "metadata": {},
   "source": [
    "Question 8.a."
   ]
  },
  {
   "cell_type": "code",
   "execution_count": 14,
   "metadata": {},
   "outputs": [
    {
     "name": "stdout",
     "output_type": "stream",
     "text": [
      "45\n"
     ]
    }
   ],
   "source": [
    "sign=[]\n",
    "for i in range(len(res[1])):\n",
    "    if min(res[1][i]*614,1)<0.05:\n",
    "        sign.append(i)\n",
    "print(len(sign))"
   ]
  },
  {
   "cell_type": "markdown",
   "metadata": {},
   "source": [
    "Il reste 45 transcrits ayant une valeur p corrigée inférieure à notre seuil d'erreur. On peut considérer que les résultats obtenus sont statistiquement significatifs étant donné que nous avons corrigé les valeurs p par le nombre de tests obtenus ce qui nous donne les même conditions de validité statistique que pour un seul test réalisé seul."
   ]
  },
  {
   "cell_type": "markdown",
   "metadata": {},
   "source": [
    "Question 8.b."
   ]
  },
  {
   "cell_type": "code",
   "execution_count": 15,
   "metadata": {},
   "outputs": [],
   "source": [
    "from statsmodels.stats.multitest import fdrcorrection"
   ]
  },
  {
   "cell_type": "code",
   "execution_count": 16,
   "metadata": {},
   "outputs": [],
   "source": [
    "r=fdrcorrection(res[1])"
   ]
  },
  {
   "cell_type": "code",
   "execution_count": 17,
   "metadata": {},
   "outputs": [
    {
     "name": "stdout",
     "output_type": "stream",
     "text": [
      "163\n"
     ]
    }
   ],
   "source": [
    "l=[]\n",
    "noms=[]\n",
    "for i in range(614):\n",
    "    if r[0][i]:\n",
    "        l.append(DSS1.iloc[i])\n",
    "for k in range(len(l)):\n",
    "    cur=len(l[k])-1\n",
    "    noms.append(l[k][cur])\n",
    "noms=pd.DataFrame(noms)\n",
    "noms=noms.dropna()\n",
    "print(len(noms))"
   ]
  },
  {
   "cell_type": "markdown",
   "metadata": {},
   "source": [
    "Si l'on accepte un FDR de 5%, il reste 163 transcrits. On peut considérer qu'il existe dans notre ensemble de test environ 5% de faux positifs et que donc tous les résultats ne sont pas statistiquement significatifs."
   ]
  },
  {
   "cell_type": "markdown",
   "metadata": {},
   "source": [
    "Question 9."
   ]
  },
  {
   "cell_type": "code",
   "execution_count": 18,
   "metadata": {
    "scrolled": true
   },
   "outputs": [
    {
     "name": "stdout",
     "output_type": "stream",
     "text": [
      "                0\n",
      "0             LTF\n",
      "1         CASKIN2\n",
      "2           RBM22\n",
      "3            SPP1\n",
      "4          FMR1NB\n",
      "6            MMP9\n",
      "7            MMP9\n",
      "8           PPARG\n",
      "9           IL1R2\n",
      "10          OLFM4\n",
      "13        SLC45A4\n",
      "14           SPP1\n",
      "15          PPARG\n",
      "16        CEACAM6\n",
      "17         COL1A2\n",
      "18         FAM20A\n",
      "19            FGA\n",
      "21            BMX\n",
      "22          INHBA\n",
      "23          HTRA3\n",
      "24            TEF\n",
      "25          CABP7\n",
      "26          PRRX1\n",
      "27           OLR1\n",
      "28        C7orf16\n",
      "29   LOC100129858\n",
      "30          GPR44\n",
      "31            MLL\n",
      "32           IDO1\n",
      "33        S100A12\n",
      "..            ...\n",
      "154          SPP1\n",
      "156        FAM20A\n",
      "157          SLPI\n",
      "158           ID1\n",
      "159           BMX\n",
      "160        COL1A2\n",
      "161         KCNG4\n",
      "164          SPP1\n",
      "165          RPA4\n",
      "166           MPO\n",
      "167          BEX1\n",
      "168         EFNB3\n",
      "169         WFDC1\n",
      "171        CRISP2\n",
      "172          ELA2\n",
      "173          MMP9\n",
      "174        HMBOX1\n",
      "175         PPARG\n",
      "176         CD177\n",
      "177           ERG\n",
      "178           BPI\n",
      "179      FLJ25770\n",
      "182         PPARG\n",
      "183          PSD3\n",
      "184          VNN1\n",
      "185       OSTbeta\n",
      "186          ARG1\n",
      "187         PPARG\n",
      "188       CEACAM6\n",
      "189          MMP9\n",
      "\n",
      "[163 rows x 1 columns]\n"
     ]
    }
   ],
   "source": [
    "print(noms)"
   ]
  },
  {
   "cell_type": "markdown",
   "metadata": {},
   "source": [
    "Question 10."
   ]
  },
  {
   "cell_type": "markdown",
   "metadata": {},
   "source": [
    "Si les conditions de validité du t-test n'étaient pas respectées nous aurions pu effectuer un Test de Wilcoxon-Mann-Whitney par exemple."
   ]
  },
  {
   "cell_type": "markdown",
   "metadata": {},
   "source": [
    "Question 11."
   ]
  },
  {
   "cell_type": "markdown",
   "metadata": {},
   "source": [
    "La prochaine étape de l'analyse consisterait je pense à l'analyse biologique des gènes que nous avons réussi à identifier comme par exemple leurs différentes caractéristiques et leurs effets afin de comprendre les différences entre la DF et la DSS au sens biologique et non mathématique. Nous devons donc laisser la main aux biologistes car le travail statistique est pour le moment terminé."
   ]
  }
 ],
 "metadata": {
  "kernelspec": {
   "display_name": "Python 3",
   "language": "python",
   "name": "python3"
  },
  "language_info": {
   "codemirror_mode": {
    "name": "ipython",
    "version": 3
   },
   "file_extension": ".py",
   "mimetype": "text/x-python",
   "name": "python",
   "nbconvert_exporter": "python",
   "pygments_lexer": "ipython3",
   "version": "3.6.8"
  }
 },
 "nbformat": 4,
 "nbformat_minor": 2
}
