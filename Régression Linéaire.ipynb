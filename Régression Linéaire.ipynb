{
 "cells": [
  {
   "cell_type": "markdown",
   "metadata": {},
   "source": [
    "# Compte-rendu Régression Linéaire ZRIBI KEBAILI JABER"
   ]
  },
  {
   "cell_type": "code",
   "execution_count": 1,
   "metadata": {},
   "outputs": [],
   "source": [
    "import pandas as pd\n",
    "import random\n",
    "import numpy as np\n",
    "import matplotlib.pyplot as plt\n",
    "import scipy.stats as stats\n",
    "from sklearn.decomposition import PCA\n",
    "from sklearn.model_selection import cross_validate"
   ]
  },
  {
   "cell_type": "markdown",
   "metadata": {},
   "source": [
    "Question 1."
   ]
  },
  {
   "cell_type": "code",
   "execution_count": 9,
   "metadata": {
    "scrolled": true
   },
   "outputs": [
    {
     "name": "stdout",
     "output_type": "stream",
     "text": [
      "       GSM447781  GSM447782  GSM447783  GSM447784  GSM447785  GSM447786  \\\n",
      "12     11.519934  10.266369  11.517425  11.963806  11.982629  12.407864   \n",
      "13      6.915259   6.584705   6.336898   5.881100   5.990039   7.346544   \n",
      "14      9.818105  10.149880   9.712470   9.836638   9.955628  10.485600   \n",
      "15      5.371255   5.462203   5.873331   4.544681   5.387667   6.158914   \n",
      "16     11.843452  11.636645  11.452921  12.135660  12.134418  12.140635   \n",
      "17      4.810572   4.863805   3.893979   5.605158   3.444473   4.729529   \n",
      "18      7.450713   7.495921   7.288172   7.279210   7.434909   6.950945   \n",
      "19     14.397061  14.840463  14.405493  15.060383  14.590845  14.660080   \n",
      "20      5.763549   5.832707   6.228280   5.757566   5.887564   5.301891   \n",
      "21      4.984783   5.497416   4.320078   4.385994   3.263066   4.351304   \n",
      "22     14.836235  14.968295  15.192028  15.010664  14.732954  15.506819   \n",
      "23      5.393241   5.751724   5.655986   5.398798   5.330872   4.952127   \n",
      "24     10.425385  10.638622  10.983608  11.243037  10.773804  11.149298   \n",
      "25      9.794565   9.636327   9.611893  10.089999   9.419912  10.371457   \n",
      "26      5.801996   6.357834   6.839123   5.445002   5.211075   6.506305   \n",
      "27      9.983712  10.308685   9.999718   9.679598   9.214276  10.748554   \n",
      "28      2.694982   3.356820   2.585910   2.209482   3.274112   2.724686   \n",
      "29      2.683608   3.953868   3.824279   2.241017   3.266523   2.166319   \n",
      "30      9.344154   9.378649   9.651757   9.324571   9.455046  10.041054   \n",
      "31      3.955252   5.125000   5.075445   5.176452   4.651337   3.595597   \n",
      "32     10.091319   9.799740   8.652243   8.913186   8.723608   9.723451   \n",
      "33      7.108348   6.654873   6.848476   6.838949   7.184383   7.209928   \n",
      "34      3.747800   4.202911   4.718606   3.451305   4.506068   5.140300   \n",
      "35     10.143317   9.964227   9.555458   9.993742   9.487698   9.817820   \n",
      "36      4.147242   2.776739   5.414282   3.381459   5.378269   4.627627   \n",
      "37      6.929053   5.541131   7.260950   7.495045   7.473146   7.168867   \n",
      "38      9.797132   9.890261   9.659000   9.065333   9.000638   9.914413   \n",
      "40      8.512686   8.378802   8.094432   8.066285   9.049565   7.368968   \n",
      "41      7.935984   5.899077   8.778308   6.167063   5.561839   6.318776   \n",
      "42     12.032549  12.524856  12.480129  11.667455  11.847520  12.730810   \n",
      "...          ...        ...        ...        ...        ...        ...   \n",
      "45180   7.596542   6.973394   7.066027   7.758330   6.762502   6.186982   \n",
      "45181   8.256943   9.591973   9.583499   7.564945   6.981839   9.092640   \n",
      "45182   5.261682   5.755212   6.271113   5.184904   5.425640   5.786506   \n",
      "45183   4.206829   3.701215   5.359210   4.819905   5.698531   5.393241   \n",
      "45184  13.379844  13.210866  13.540431  13.173848  13.377543  14.009738   \n",
      "45185   5.651981   6.542658   7.003072   5.232862   7.187727   6.615361   \n",
      "45186  10.508337   9.914413  10.917425  10.910602  11.175475  10.821124   \n",
      "45187  11.267599  11.048164  10.521115  10.478577  10.747194  10.628846   \n",
      "45188   8.452526   9.968991   9.215024   9.418808   7.798285   9.012224   \n",
      "45189   8.599841   7.925999   8.345822   8.768860   9.141125   7.688065   \n",
      "45190   7.939581   8.540205  12.576638   8.388023   8.063751   8.257173   \n",
      "45191   8.752575   8.551547   8.564771   8.646865   8.213101   7.496097   \n",
      "45192   7.474412   7.471171   7.765251   7.588253   7.959279   7.704182   \n",
      "45193   3.189739   3.781595   4.842897   3.164588   4.661112   4.219371   \n",
      "45194  11.166193  11.286058  11.171398  10.970880  11.542211  11.128989   \n",
      "45195  10.795558  10.725460  10.556565  11.040414  10.338150  11.492109   \n",
      "45196   4.800062   6.164629   5.949862   4.825329   6.195907   5.856565   \n",
      "45197   6.658790   6.592787   6.125510   7.199705   6.481054   5.640569   \n",
      "45198   9.249909   9.543924   9.213784   9.973997   9.169640  10.190358   \n",
      "45199   8.680827  10.443328  10.370360   7.928036   7.234768   9.709090   \n",
      "45200   5.252327   5.202092   6.325055   4.642562   5.760451   5.733378   \n",
      "45201  10.047690  10.436165   9.824410  10.524205   9.898232   9.522212   \n",
      "45202   8.234652   7.862535   8.270700   9.303061   9.130494   8.506282   \n",
      "45203  13.762584  13.666809  13.628572  13.481760  12.996577  14.262629   \n",
      "45204   4.728840   4.914479   5.813508   4.608364   6.137035   7.424536   \n",
      "45205   6.430334   8.071005   7.943193   6.823640   6.583159   7.967575   \n",
      "45206   9.537699  10.409059   9.742599  10.768028  10.457579   9.776831   \n",
      "45207   2.745445   3.043695   5.692912   2.447080   5.914624   3.795896   \n",
      "45208   2.735733   2.825944   5.057673   2.593118   4.437827   4.468312   \n",
      "45209   9.696610   9.847350   9.879107  10.984354  10.085594   9.091121   \n",
      "\n",
      "       GSM447787  GSM447788  GSM447789  GSM447790  ...  GSM447819  GSM447820  \\\n",
      "12     12.062311  11.967048  12.567712  11.898823  ...  11.869450  13.067329   \n",
      "13      6.193010   6.986322   5.954855   6.796853  ...   6.488276   7.927281   \n",
      "14      9.696251  10.073318  11.093570  10.048258  ...  10.052802  10.410851   \n",
      "15      5.390257   5.263122   5.323402   5.821695  ...   5.371780   5.641451   \n",
      "16     12.022824  12.173443  12.467499  12.068425  ...  11.892818  13.090750   \n",
      "17      2.214954   4.953413   3.434232   5.125221  ...   5.150499   5.547711   \n",
      "18      7.882745   7.342252   7.020001   7.165900  ...   7.503591   6.927152   \n",
      "19     14.009738  14.831052  15.142936  15.173575  ...  14.827069  13.231442   \n",
      "20      4.843716   5.474069   4.288506   6.239238  ...   6.235645   7.237499   \n",
      "21      2.242313   4.499240   3.302172   4.842653  ...   5.278093   3.597679   \n",
      "22     15.019408  14.748557  15.219424  15.247176  ...  15.051906  14.627423   \n",
      "23      5.047746   5.309823   4.736885   5.419460  ...   5.679360   5.276280   \n",
      "24     11.554230  10.806668  11.116195  10.356265  ...  10.561115  10.590144   \n",
      "25      9.163563  10.061713   9.515940  10.606745  ...  10.052008  10.400114   \n",
      "26      5.934985   6.814020   6.535830   5.108807  ...   5.725764   5.735713   \n",
      "27      9.825958  10.224669   9.532394  10.409694  ...  10.131513  11.047449   \n",
      "28      2.285243   2.251392   3.235361   3.246782  ...   3.535352   2.434996   \n",
      "29      2.293269   2.405086   3.226447   3.236347  ...   4.104985   2.422618   \n",
      "30      9.566668   9.196218  10.069504  10.002720  ...   9.752462   9.872302   \n",
      "31      4.468595   4.743412   4.158805   4.241928  ...   4.619653   4.043651   \n",
      "32      8.921079   9.684091   8.478831   9.255301  ...   9.301973  10.133835   \n",
      "33      6.818352   7.031542   6.469213   7.155022  ...   6.881132   6.383388   \n",
      "34      5.673049   4.060158   3.180107   5.138517  ...   3.483121   5.094477   \n",
      "35      9.695062   9.917534   9.700118   9.990246  ...   9.988085   9.916465   \n",
      "36      4.215779   4.081686   5.845596   4.102145  ...   3.248887   5.923291   \n",
      "37      6.688446   5.799379   6.983022   7.086389  ...   6.846256   6.479422   \n",
      "38      9.048703   9.343426   9.313509  10.024548  ...   9.674821  10.357203   \n",
      "40      8.468982   8.298550   8.352549   7.905345  ...   8.245018   8.331306   \n",
      "41      5.734725   6.863797   6.080799   5.632349  ...   7.635773   6.788253   \n",
      "42     12.141095  12.234823  11.940849  12.022824  ...  12.056299  12.514071   \n",
      "...          ...        ...        ...        ...  ...        ...        ...   \n",
      "45180   6.288558   6.635861   6.100410   7.263239  ...   6.726291   6.736249   \n",
      "45181   8.036011   8.545005   9.073584   9.225503  ...   8.195113   7.500916   \n",
      "45182   6.023852   5.699674   6.456022   5.008229  ...   4.979001   3.149717   \n",
      "45183   4.632330   4.059488   5.972131   4.568581  ...   4.484354   7.134181   \n",
      "45184  12.984147  13.296062  13.199207  13.817408  ...  13.377543  14.864934   \n",
      "45185   6.552269   5.693487   6.417888   6.605759  ...   6.793831   6.806539   \n",
      "45186  10.624874  10.853852  11.309678  11.009129  ...  10.928068  11.817009   \n",
      "45187  10.811488  10.740994  11.209319  10.691180  ...  10.976656  11.889187   \n",
      "45188   9.452135  10.047396  10.267961   8.332193  ...   8.708911   7.683172   \n",
      "45189   7.822670   8.249278   7.838815   8.631285  ...   8.445613   8.452019   \n",
      "45190   8.246962   8.082159   8.074838   7.862015  ...   8.054203   8.377347   \n",
      "45191   8.061445   8.246478   7.638792   8.825366  ...   8.335634   8.521623   \n",
      "45192   7.894221   7.568347   7.838614   7.628252  ...   7.338665   7.566275   \n",
      "45193   3.730582   3.333252   3.707468   2.988463  ...   3.031606   2.889528   \n",
      "45194  11.105832  11.041483  11.241286  11.237829  ...  11.206169  11.415882   \n",
      "45195  10.825112  10.933453  11.046258  10.881226  ...  10.965931  11.592699   \n",
      "45196   5.336938   6.122137   5.161985   6.423166  ...   5.993416   5.950553   \n",
      "45197   6.010916   5.768062   5.350599   6.685730  ...   6.221482   6.434940   \n",
      "45198   9.369137   9.415946   9.170105   9.169640  ...   9.519980   9.950825   \n",
      "45199   8.564228   9.030284   9.165567   8.525792  ...   7.943392   6.819305   \n",
      "45200   5.955946   5.328551   5.404752   4.859220  ...   4.421447   5.358345   \n",
      "45201   9.065551  10.745404  10.662352  10.428952  ...  10.275704   9.191590   \n",
      "45202   9.075820   8.367174   8.324570   8.170198  ...   8.051993   7.481139   \n",
      "45203  12.829391  13.750649  12.753513  14.097382  ...  13.880021  14.898334   \n",
      "45204   4.827154   5.658636   6.873708   6.023599  ...   5.206952   6.104579   \n",
      "45205   7.519979   7.983298   7.848112   6.723144  ...   7.136128   6.778199   \n",
      "45206   9.995059  10.415010  10.833531   9.843719  ...  10.370045   9.429565   \n",
      "45207   3.325077   2.188503   3.989808   3.005338  ...   3.091906   2.680120   \n",
      "45208   2.110134   3.757431   2.986379   2.988131  ...   3.310170   3.402110   \n",
      "45209  10.689270   9.643996  10.000563   8.708911  ...   8.973538   9.406989   \n",
      "\n",
      "       GSM447821  GSM447822  GSM447823  GSM447824  GSM447825  GSM447826  \\\n",
      "12     12.895339  11.492932  11.627058  12.300160  11.617349  11.546340   \n",
      "13      6.869447   6.649619   5.831543   6.576994   6.519342   6.456280   \n",
      "14     10.256237   9.738687   9.659491   9.992892   9.775438  10.298740   \n",
      "15      5.857713   4.961826   5.081558   4.604666   5.671550   5.226662   \n",
      "16     11.930536  11.690727  11.591055  11.772068  11.429272  11.774719   \n",
      "17      4.658640   4.826979   5.063526   4.595120   4.844324   4.939174   \n",
      "18      7.338097   7.158521   7.005599   7.006320   7.053666   7.422429   \n",
      "19     13.709478  14.526824  14.572003  14.824059  14.194485  14.347499   \n",
      "20      4.888989   5.360769   5.053801   5.591032   7.172335   7.329149   \n",
      "21      3.533505   4.117195   4.194162   3.908366   3.557703   3.928052   \n",
      "22     14.625941  14.732954  15.311291  15.093101  14.984637  15.021401   \n",
      "23      5.144665   4.807543   4.190097   4.748237   5.319671   5.268774   \n",
      "24     11.118811  10.839243  11.085613  11.227350  10.294488  10.418501   \n",
      "25      9.758692  10.015232   9.461818   9.596120   9.946196  10.036016   \n",
      "26      7.247245   5.910551   6.913434   5.628857   5.065009   5.059671   \n",
      "27     10.035166   9.835601  10.160086   9.669648  10.504723  10.456534   \n",
      "28      2.543506   2.126700   2.042174   2.197761   2.062992   1.783903   \n",
      "29      2.537711   2.125439   2.033382   2.200857   2.599078   1.784081   \n",
      "30     10.038829   9.504279   9.254227  10.377234   9.735028   9.630221   \n",
      "31      4.510302   3.769171   3.751140   3.798293   4.656410   4.343463   \n",
      "32      9.028183   9.448245   9.865423   8.950492   9.076762   9.302316   \n",
      "33      6.250663   6.882146   6.175396   5.819168   6.679421   6.795003   \n",
      "34      4.655282   2.855521   3.359516   4.587767   4.179137   4.900609   \n",
      "35      9.530801  10.051473   9.907523   9.761301   9.901727   9.919918   \n",
      "36      6.438009   2.677637   2.702596   5.316177   2.741194   5.742774   \n",
      "37      7.721246   6.379215   7.159749   7.966027   6.608880   7.073829   \n",
      "38      9.471849   9.356555   9.540326   9.254780   9.958808  10.033506   \n",
      "40      8.419390   8.711979   8.702966   8.310548   7.457399   8.800118   \n",
      "41      7.094372   7.698638   5.963032   6.780832   6.824534   5.094211   \n",
      "42     12.323754  12.067986  12.558271  12.118539  11.938862  12.260362   \n",
      "...          ...        ...        ...        ...        ...        ...   \n",
      "45180   6.548550   7.475816   7.314513   6.910855   7.293528   7.143593   \n",
      "45181   9.163077   8.296514   8.910652   8.381374   8.405864   9.209369   \n",
      "45182   5.592604   5.779628   4.625383   5.689538   4.688353   4.869764   \n",
      "45183   5.447045   3.208376   3.323814   4.660880   2.510005   4.369658   \n",
      "45184  13.752795  12.822542  13.793339  13.246981  13.772268  13.934357   \n",
      "45185   6.458154   5.396202   6.313539   6.001658   6.658348   7.309979   \n",
      "45186  11.406624  10.159126  11.084012  10.981868  10.921520  11.228625   \n",
      "45187  11.014030  11.122819  10.383566  11.172177   9.869423  10.670146   \n",
      "45188   9.335525   9.264329  10.530286   9.569355   8.629492   8.777765   \n",
      "45189   7.936970   8.630573   8.883461   8.601867   9.289270   9.384249   \n",
      "45190   8.282777   8.422030   8.500977   7.846526   7.883721   8.081416   \n",
      "45191   8.197123   8.890847   9.094307   8.281793   9.179934   8.910376   \n",
      "45192   7.781266   7.418850   7.622384   7.521316   7.452804   7.726651   \n",
      "45193   3.118319   2.133423   3.964545   2.979277   2.219677   2.925350   \n",
      "45194  11.233643  10.802350  11.075554  10.770837  11.299366  11.591453   \n",
      "45195  11.164287  10.800703  10.450422  11.166536  10.900024  11.119293   \n",
      "45196   5.409411   4.194162   5.712479   4.594073   6.347128   5.855694   \n",
      "45197   5.317519   6.979050   6.472673   5.801066   6.373974   5.692640   \n",
      "45198   9.323518   9.734254   9.638457   9.859309   9.164831   9.098868   \n",
      "45199   9.389435   9.225745   9.769932   9.434704   8.927373   8.317299   \n",
      "45200   5.835432   4.975459   5.813243   5.696170   4.706467   4.990889   \n",
      "45201   9.373441  10.331444   9.378125   9.770551   9.485089   9.623765   \n",
      "45202   8.389403   8.728230   8.832128   8.470974   8.548071   8.625182   \n",
      "45203  13.513792  13.719032  14.241349  13.420169  14.067235  13.989644   \n",
      "45204   6.498784   3.688674   4.873743   6.012514   5.091227   5.478874   \n",
      "45205   7.772174   7.834905   7.554859   7.655095   6.584272   6.771177   \n",
      "45206   9.707343  10.325426   9.449346  10.548820   8.956064   9.193925   \n",
      "45207   2.748805   3.712923   2.006819   2.654492   3.196335   2.740028   \n",
      "45208   2.740028   2.080912   2.003057   2.430768   2.559158   3.139965   \n",
      "45209   9.970279   9.049278   8.658822   8.848681   9.526541   9.498161   \n",
      "\n",
      "       GSM447827  GSM447828  \n",
      "12     11.263274  11.670121  \n",
      "13      6.767518   6.949811  \n",
      "14     10.227220   9.711050  \n",
      "15      5.120098   5.108807  \n",
      "16     12.225502  12.004502  \n",
      "17      5.107759   4.481872  \n",
      "18      7.265119   7.687803  \n",
      "19     14.367548  14.418842  \n",
      "20      6.299039   5.536623  \n",
      "21      4.644134   3.470217  \n",
      "22     15.370711  15.046206  \n",
      "23      4.612795   5.103218  \n",
      "24     11.404525  10.911407  \n",
      "25      9.732812   9.369137  \n",
      "26      6.281862   5.027104  \n",
      "27     10.837686  10.385135  \n",
      "28      2.605224   2.250708  \n",
      "29      2.587708   2.250054  \n",
      "30      9.609248   8.932860  \n",
      "31      4.312555   3.800496  \n",
      "32      9.800746   9.425498  \n",
      "33      6.302552   5.611867  \n",
      "34      4.506872   2.244873  \n",
      "35     10.034287  10.012855  \n",
      "36      3.450224   3.535120  \n",
      "37      6.416950   6.549305  \n",
      "38      9.711545   9.671448  \n",
      "40      7.701213   8.847413  \n",
      "41      6.181167   4.581430  \n",
      "42     12.896110  12.306477  \n",
      "...          ...        ...  \n",
      "45180   6.472673   6.781070  \n",
      "45181   9.207519   7.701678  \n",
      "45182   6.326957   4.480632  \n",
      "45183   3.568429   4.057187  \n",
      "45184  13.379330  13.307400  \n",
      "45185   6.468307   6.767286  \n",
      "45186  10.450169  10.706897  \n",
      "45187  10.868135  11.052294  \n",
      "45188  12.001889  10.464481  \n",
      "45189   7.916241   7.982384  \n",
      "45190   8.838975   8.083076  \n",
      "45191   7.808715   8.523030  \n",
      "45192   7.836925   7.457701  \n",
      "45193   3.674275   2.498939  \n",
      "45194  10.888983  11.098363  \n",
      "45195  11.391555  10.817570  \n",
      "45196   5.283318   9.040328  \n",
      "45197   5.972131   5.972131  \n",
      "45198  10.574864   9.591722  \n",
      "45199  10.474114   8.216591  \n",
      "45200   6.107862   5.093929  \n",
      "45201   9.544213   9.776831  \n",
      "45202   8.924020   8.549942  \n",
      "45203  14.004456  13.784642  \n",
      "45204   5.390465   4.621572  \n",
      "45205   8.743233   7.335467  \n",
      "45206  10.521435   9.794798  \n",
      "45207   2.833266   2.211844  \n",
      "45208   4.148180   2.201887  \n",
      "45209  10.526532  10.186433  \n",
      "\n",
      "[43376 rows x 48 columns]\n"
     ]
    }
   ],
   "source": [
    "dataOrig=pd.read_csv('GSE17924_series_matrix.txt', sep='\\t',skiprows=21, index_col=0)\n",
    "phenotype=pd.read_csv('GSE17924_series_matrix.txt', sep='\\t', index_col=0)\n",
    "print(dataOrig)\n",
    "phenotype=phenotype.iloc[2].to_frame()\n",
    "#print(phenotype)\n",
    "phenotype=phenotype.replace('severity: DF',0)\n",
    "phenotype=phenotype.replace('severity: DHF',1)\n",
    "phenotype=phenotype.replace('severity: DSS',2)"
   ]
  },
  {
   "cell_type": "code",
   "execution_count": 10,
   "metadata": {},
   "outputs": [],
   "source": [
    "data_transp=dataOrig.transpose()\n",
    "#print(data_transp)"
   ]
  },
  {
   "cell_type": "markdown",
   "metadata": {},
   "source": [
    "Question 2.a."
   ]
  },
  {
   "cell_type": "code",
   "execution_count": 11,
   "metadata": {},
   "outputs": [],
   "source": [
    "mean=data_transp.mean()"
   ]
  },
  {
   "cell_type": "code",
   "execution_count": 12,
   "metadata": {},
   "outputs": [
    {
     "data": {
      "text/plain": [
       "<matplotlib.axes._subplots.AxesSubplot at 0x1e088ea54a8>"
      ]
     },
     "execution_count": 12,
     "metadata": {},
     "output_type": "execute_result"
    },
    {
     "data": {
      "image/png": "[encoded data removed]",
      "text/plain": [
       "<Figure size 432x288 with 1 Axes>"
      ]
     },
     "metadata": {
      "needs_background": "light"
     },
     "output_type": "display_data"
    }
   ],
   "source": [
    "mean.hist(bins=100)"
   ]
  },
  {
   "cell_type": "code",
   "execution_count": 13,
   "metadata": {},
   "outputs": [],
   "source": [
    "var=data_transp.var()"
   ]
  },
  {
   "cell_type": "code",
   "execution_count": 14,
   "metadata": {},
   "outputs": [
    {
     "data": {
      "text/plain": [
       "<matplotlib.axes._subplots.AxesSubplot at 0x1e0888d5ef0>"
      ]
     },
     "execution_count": 14,
     "metadata": {},
     "output_type": "execute_result"
    },
    {
     "data": {
      "image/png": "[encoded data removed]",
      "text/plain": [
       "<Figure size 432x288 with 1 Axes>"
      ]
     },
     "metadata": {
      "needs_background": "light"
     },
     "output_type": "display_data"
    }
   ],
   "source": [
    "var.hist(bins=100)"
   ]
  },
  {
   "cell_type": "code",
   "execution_count": 15,
   "metadata": {},
   "outputs": [],
   "source": [
    "Orig=dataOrig.copy()"
   ]
  },
  {
   "cell_type": "code",
   "execution_count": 16,
   "metadata": {},
   "outputs": [],
   "source": [
    "Orig['Mean']=mean"
   ]
  },
  {
   "cell_type": "code",
   "execution_count": 17,
   "metadata": {},
   "outputs": [],
   "source": [
    "Orig['Variance']=var"
   ]
  },
  {
   "cell_type": "code",
   "execution_count": 18,
   "metadata": {},
   "outputs": [],
   "source": [
    "data2=Orig[Orig[\"Mean\"]>3]\n",
    "data3=data2[data2[\"Variance\"]>2]\n",
    "#print(data3)\n",
    "data3 = data3.drop(columns = ['Mean', 'Variance'])\n",
    "#print(data3)"
   ]
  },
  {
   "cell_type": "markdown",
   "metadata": {},
   "source": [
    "Question 2.b."
   ]
  },
  {
   "cell_type": "code",
   "execution_count": 19,
   "metadata": {},
   "outputs": [
    {
     "name": "stdout",
     "output_type": "stream",
     "text": [
      "(48, 618)\n"
     ]
    },
    {
     "data": {
      "text/plain": [
       "<matplotlib.axes._subplots.AxesSubplot at 0x1e087a1c710>"
      ]
     },
     "execution_count": 19,
     "metadata": {},
     "output_type": "execute_result"
    },
    {
     "data": {
      "image/png": "[encoded data removed]",
      "text/plain": [
       "<Figure size 432x288 with 2 Axes>"
      ]
     },
     "metadata": {
      "needs_background": "light"
     },
     "output_type": "display_data"
    }
   ],
   "source": [
    "pca=PCA()\n",
    "X=data3.values\n",
    "data4=pca.fit_transform(X)\n",
    "data_transform=data4.transpose()\n",
    "df=pd.DataFrame(data_transform)\n",
    "#print(df)\n",
    "print(df.shape)\n",
    "df['pheno']=phenotype.values\n",
    "df.plot.scatter(x=0,y=1,c='pheno',colormap='viridis')"
   ]
  },
  {
   "cell_type": "markdown",
   "metadata": {},
   "source": [
    "L'ACP ne permet pas, dans notre cas, de bien distinguer la répartition des ensembles de données des différentes classes, les données sont concentrées en un point à part quelques outliers et on ne peut en tirer aucune information utile."
   ]
  },
  {
   "cell_type": "markdown",
   "metadata": {},
   "source": [
    "Question 3.a."
   ]
  },
  {
   "cell_type": "code",
   "execution_count": 20,
   "metadata": {},
   "outputs": [],
   "source": [
    "import sklearn.linear_model as lm"
   ]
  },
  {
   "cell_type": "code",
   "execution_count": 21,
   "metadata": {},
   "outputs": [],
   "source": [
    "X=data3.transpose().values\n",
    "#print(X)\n",
    "Y=phenotype.values\n",
    "#print(Y)\n",
    "reg=lm.LinearRegression().fit(X, Y)"
   ]
  },
  {
   "cell_type": "code",
   "execution_count": 22,
   "metadata": {
    "scrolled": true
   },
   "outputs": [
    {
     "data": {
      "image/png": "[encoded data removed]",
      "text/plain": [
       "<Figure size 432x288 with 1 Axes>"
      ]
     },
     "metadata": {
      "needs_background": "light"
     },
     "output_type": "display_data"
    }
   ],
   "source": [
    "#print(reg.coef_)\n",
    "coef=reg.coef_[0]\n",
    "histo=plt.hist(coef, bins=100)"
   ]
  },
  {
   "cell_type": "code",
   "execution_count": 23,
   "metadata": {
    "scrolled": true
   },
   "outputs": [
    {
     "name": "stdout",
     "output_type": "stream",
     "text": [
      "Proportion de coefficient nuls : 0.0\n",
      "Plus gros coefficient : 0.025300036075065778\n",
      "Plus petit coefficient : -0.02505130702538279\n"
     ]
    }
   ],
   "source": [
    "data3['coef']=(coef==0)\n",
    "#print(data3)\n",
    "print('Proportion de coefficient nuls : '+str(data3.coef.sum()/data3.shape[0]))\n",
    "print('Plus gros coefficient : '+str(coef.max()))\n",
    "print('Plus petit coefficient : '+str(coef.min()) )"
   ]
  },
  {
   "cell_type": "markdown",
   "metadata": {},
   "source": [
    "Question 3.b."
   ]
  },
  {
   "cell_type": "markdown",
   "metadata": {},
   "source": [
    "L'estimation des coefficients dans une régression linéaire se fait par la minimisation du critère des moindres carrés entre une fonction affine recherchée et l'ensemble des données à notre disposition."
   ]
  },
  {
   "cell_type": "markdown",
   "metadata": {},
   "source": [
    "Question 4.a."
   ]
  },
  {
   "cell_type": "code",
   "execution_count": 32,
   "metadata": {},
   "outputs": [
    {
     "name": "stderr",
     "output_type": "stream",
     "text": [
      "C:\\Users\\USER\\Anaconda3\\lib\\site-packages\\sklearn\\linear_model\\coordinate_descent.py:1100: DataConversionWarning: A column-vector y was passed when a 1d array was expected. Please change the shape of y to (n_samples, ), for example using ravel().\n",
      "  y = column_or_1d(y, warn=True)\n",
      "C:\\Users\\USER\\Anaconda3\\lib\\site-packages\\sklearn\\model_selection\\_split.py:1978: FutureWarning: The default value of cv will change from 3 to 5 in version 0.22. Specify it explicitly to silence this warning.\n",
      "  warnings.warn(CV_WARNING, FutureWarning)\n"
     ]
    },
    {
     "data": {
      "image/png": "[encoded data removed]",
      "text/plain": [
       "<Figure size 432x288 with 1 Axes>"
      ]
     },
     "metadata": {
      "needs_background": "light"
     },
     "output_type": "display_data"
    }
   ],
   "source": [
    "lasso=lm.LassoCV().fit(X, Y)\n",
    "coef=lasso.coef_\n",
    "histo=plt.hist(coef, bins=100)"
   ]
  },
  {
   "cell_type": "code",
   "execution_count": 33,
   "metadata": {
    "scrolled": true
   },
   "outputs": [
    {
     "name": "stdout",
     "output_type": "stream",
     "text": [
      "Proportion de coefficient nuls : 0.988673139158576\n",
      "Plus gros coefficient : 0.12077112247592088\n",
      "Plus petit coefficient : -0.005129897384960919\n"
     ]
    }
   ],
   "source": [
    "data3['coef']=(coef==0)\n",
    "#print(data3)\n",
    "print('Proportion de coefficient nuls : '+str(data3.coef.sum()/data3.shape[0]))\n",
    "print('Plus gros coefficient : '+str(coef.max()))\n",
    "print('Plus petit coefficient : '+str(coef.min()) )"
   ]
  },
  {
   "cell_type": "markdown",
   "metadata": {},
   "source": [
    "Question 4.b."
   ]
  },
  {
   "cell_type": "markdown",
   "metadata": {
    "scrolled": true
   },
   "source": [
    "C’est une démarche itérative où l’on commence avec tous les coefficients égaux à 0. On fait évoluer les coefficients sélectivement.  On a ainsi des scénarios de solutions à mesure que le module des coefficients augmente. Et ce de façon à minimiser la valeur absolue de la différence entre les points du jeu de données et la droite constituée par ces coefficients."
   ]
  },
  {
   "cell_type": "markdown",
   "metadata": {},
   "source": [
    "Question 5"
   ]
  },
  {
   "cell_type": "code",
   "execution_count": 34,
   "metadata": {},
   "outputs": [],
   "source": [
    "genes=pd.read_csv('ANNOTATIONS.txt', sep='\\t', index_col = 'ID')"
   ]
  },
  {
   "cell_type": "code",
   "execution_count": 35,
   "metadata": {
    "scrolled": true
   },
   "outputs": [
    {
     "name": "stdout",
     "output_type": "stream",
     "text": [
      "      GENE_SYMBOL\n",
      "9308        VSIG4\n",
      "11010      RPS4Y2\n",
      "20713       OLFM4\n",
      "21103        SPP1\n",
      "29664      COL1A2\n",
      "33963    C1orf173\n"
     ]
    },
    {
     "data": {
      "text/html": [
       "<div>\n",
       "<style scoped>\n",
       "    .dataframe tbody tr th:only-of-type {\n",
       "        vertical-align: middle;\n",
       "    }\n",
       "\n",
       "    .dataframe tbody tr th {\n",
       "        vertical-align: top;\n",
       "    }\n",
       "\n",
       "    .dataframe thead th {\n",
       "        text-align: right;\n",
       "    }\n",
       "</style>\n",
       "<table border=\"1\" class=\"dataframe\">\n",
       "  <thead>\n",
       "    <tr style=\"text-align: right;\">\n",
       "      <th></th>\n",
       "      <th>occurence</th>\n",
       "    </tr>\n",
       "    <tr>\n",
       "      <th>genes</th>\n",
       "      <th></th>\n",
       "    </tr>\n",
       "  </thead>\n",
       "  <tbody>\n",
       "    <tr>\n",
       "      <th>C1orf173</th>\n",
       "      <td>1</td>\n",
       "    </tr>\n",
       "    <tr>\n",
       "      <th>COL1A2</th>\n",
       "      <td>1</td>\n",
       "    </tr>\n",
       "    <tr>\n",
       "      <th>OLFM4</th>\n",
       "      <td>1</td>\n",
       "    </tr>\n",
       "    <tr>\n",
       "      <th>RPS4Y2</th>\n",
       "      <td>1</td>\n",
       "    </tr>\n",
       "    <tr>\n",
       "      <th>SPP1</th>\n",
       "      <td>1</td>\n",
       "    </tr>\n",
       "    <tr>\n",
       "      <th>VSIG4</th>\n",
       "      <td>1</td>\n",
       "    </tr>\n",
       "  </tbody>\n",
       "</table>\n",
       "</div>"
      ],
      "text/plain": [
       "          occurence\n",
       "genes              \n",
       "C1orf173          1\n",
       "COL1A2            1\n",
       "OLFM4             1\n",
       "RPS4Y2            1\n",
       "SPP1              1\n",
       "VSIG4             1"
      ]
     },
     "execution_count": 35,
     "metadata": {},
     "output_type": "execute_result"
    }
   ],
   "source": [
    "data5=data3[data3.coef==False]\n",
    "data6=data5.index\n",
    "data7=genes.loc[data6]\n",
    "genes_l=data7.dropna()\n",
    "print(genes_l)\n",
    "genes_l.columns=['genes']\n",
    "genes_l=genes_l.groupby(['genes'])\n",
    "genes_l=genes_l.apply(lambda x: x.count())\n",
    "#genes_l=genes_l.groupby(['genes']).apply(lambda x: x.count())\n",
    "genes_l.columns=['occurence']\n",
    "genes_l"
   ]
  },
  {
   "cell_type": "markdown",
   "metadata": {},
   "source": [
    "Question 6."
   ]
  },
  {
   "cell_type": "code",
   "execution_count": 36,
   "metadata": {
    "scrolled": true
   },
   "outputs": [
    {
     "data": {
      "text/plain": [
       "{'fit_time': array([0.00199723, 0.00199199, 0.0019877 , 0.00099421, 0.00196624]),\n",
       " 'score_time': array([0.00099802, 0.00102949, 0.00100732, 0.00099397, 0.        ]),\n",
       " 'test_score': array([ 0.57204784,  0.69771337,  0.67401539, -0.54196705,  0.51236105])}"
      ]
     },
     "execution_count": 36,
     "metadata": {},
     "output_type": "execute_result"
    }
   ],
   "source": [
    "reg=lm.LinearRegression()\n",
    "c_reg=cross_validate(reg, X, Y, cv=5)\n",
    "c_reg"
   ]
  },
  {
   "cell_type": "code",
   "execution_count": 31,
   "metadata": {
    "scrolled": true
   },
   "outputs": [
    {
     "name": "stderr",
     "output_type": "stream",
     "text": [
      "C:\\Users\\USER\\Anaconda3\\lib\\site-packages\\sklearn\\linear_model\\coordinate_descent.py:1100: DataConversionWarning: A column-vector y was passed when a 1d array was expected. Please change the shape of y to (n_samples, ), for example using ravel().\n",
      "  y = column_or_1d(y, warn=True)\n",
      "C:\\Users\\USER\\Anaconda3\\lib\\site-packages\\sklearn\\model_selection\\_split.py:1978: FutureWarning: The default value of cv will change from 3 to 5 in version 0.22. Specify it explicitly to silence this warning.\n",
      "  warnings.warn(CV_WARNING, FutureWarning)\n",
      "C:\\Users\\USER\\Anaconda3\\lib\\site-packages\\sklearn\\linear_model\\coordinate_descent.py:1100: DataConversionWarning: A column-vector y was passed when a 1d array was expected. Please change the shape of y to (n_samples, ), for example using ravel().\n",
      "  y = column_or_1d(y, warn=True)\n",
      "C:\\Users\\USER\\Anaconda3\\lib\\site-packages\\sklearn\\model_selection\\_split.py:1978: FutureWarning: The default value of cv will change from 3 to 5 in version 0.22. Specify it explicitly to silence this warning.\n",
      "  warnings.warn(CV_WARNING, FutureWarning)\n",
      "C:\\Users\\USER\\Anaconda3\\lib\\site-packages\\sklearn\\linear_model\\coordinate_descent.py:1100: DataConversionWarning: A column-vector y was passed when a 1d array was expected. Please change the shape of y to (n_samples, ), for example using ravel().\n",
      "  y = column_or_1d(y, warn=True)\n",
      "C:\\Users\\USER\\Anaconda3\\lib\\site-packages\\sklearn\\model_selection\\_split.py:1978: FutureWarning: The default value of cv will change from 3 to 5 in version 0.22. Specify it explicitly to silence this warning.\n",
      "  warnings.warn(CV_WARNING, FutureWarning)\n",
      "C:\\Users\\USER\\Anaconda3\\lib\\site-packages\\sklearn\\linear_model\\coordinate_descent.py:1100: DataConversionWarning: A column-vector y was passed when a 1d array was expected. Please change the shape of y to (n_samples, ), for example using ravel().\n",
      "  y = column_or_1d(y, warn=True)\n",
      "C:\\Users\\USER\\Anaconda3\\lib\\site-packages\\sklearn\\model_selection\\_split.py:1978: FutureWarning: The default value of cv will change from 3 to 5 in version 0.22. Specify it explicitly to silence this warning.\n",
      "  warnings.warn(CV_WARNING, FutureWarning)\n",
      "C:\\Users\\USER\\Anaconda3\\lib\\site-packages\\sklearn\\linear_model\\coordinate_descent.py:1100: DataConversionWarning: A column-vector y was passed when a 1d array was expected. Please change the shape of y to (n_samples, ), for example using ravel().\n",
      "  y = column_or_1d(y, warn=True)\n",
      "C:\\Users\\USER\\Anaconda3\\lib\\site-packages\\sklearn\\model_selection\\_split.py:1978: FutureWarning: The default value of cv will change from 3 to 5 in version 0.22. Specify it explicitly to silence this warning.\n",
      "  warnings.warn(CV_WARNING, FutureWarning)\n"
     ]
    },
    {
     "data": {
      "text/plain": [
       "{'fit_time': array([0.49764347, 0.52360201, 0.67718768, 0.50864005, 0.54653883]),\n",
       " 'score_time': array([0.00099683, 0.00099707, 0.        , 0.        , 0.00099707]),\n",
       " 'test_score': array([ 0.56394624,  0.60504019,  0.72443247, -0.62670578,  0.49199137])}"
      ]
     },
     "execution_count": 31,
     "metadata": {},
     "output_type": "execute_result"
    }
   ],
   "source": [
    "lasso=lm.LassoCV()\n",
    "cv_lasso=cross_validate(lasso, X, Y, cv=5);\n",
    "cv_lasso"
   ]
  },
  {
   "cell_type": "markdown",
   "metadata": {},
   "source": [
    "Pour la régression linéaire, le nombre d'individu est très faible devant le nombre de features étant donné que les coefficients sont non nuls même s'ils sont proches de 0. Par conséquent, on observe un sur-apprentissage important dû au fait qu'il n'y a pas assez de données différentes pour approcher au mieux les points disponibles tout en obtenant une tendance générale que nous recherchons pour mieux généraliser dans de nouveaux cas.\n",
    "\n",
    "Pour la régression Lasso, plus de 98.8% des coefficients sont mis à zéro. On se retrouve alors avec un nombre d'individu supérieur au nombre de features. Il y a alors un risque plus faible de sur-apprentissage lors de l'entrainement et un apprentissage que l'on peut considérer a priori comme de meilleure qualité. Cependant, lors des phases de tests, les performances de la régression lasso sont moins bonnes que dans le cas de la régression linéaire. Ceci peut-être dû aux faits que ces deux approches sont trop extrêmes et qu'il fallait mieux utiliser un juste milieu telle que la régression Elastic-net pour obtenir de meilleurs résultats."
   ]
  },
  {
   "cell_type": "markdown",
   "metadata": {},
   "source": [
    "Question 7"
   ]
  },
  {
   "cell_type": "markdown",
   "metadata": {},
   "source": [
    "Lors de la validation croisée, nous sommes dans l'obligation de garder une partie de notre ensemble de données pour tester notre apprentissage sur des données. Ceci est embêtant car cela nous empêche d'utiliser l'ensemble des informations à notre disposition pour optimiser nos performances. Cela influe sur la qualité de l'estimation du résultat final, qui est fonction de la taille du dataset à notre disposition. Nous n'avons donc qu'une approximation plus ou moins précise du résultat réel de l'apprentissage sur notre dataset avec la validation croisée, ce n'est pas une estimation parfaite de la performance. "
   ]
  }
 ],
 "metadata": {
  "kernelspec": {
   "display_name": "Python 3",
   "language": "python",
   "name": "python3"
  },
  "language_info": {
   "codemirror_mode": {
    "name": "ipython",
    "version": 3
   },
   "file_extension": ".py",
   "mimetype": "text/x-python",
   "name": "python",
   "nbconvert_exporter": "python",
   "pygments_lexer": "ipython3",
   "version": "3.7.3"
  }
 },
 "nbformat": 4,
 "nbformat_minor": 2
}
